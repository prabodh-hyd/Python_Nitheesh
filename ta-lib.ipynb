{
 "cells": [
  {
   "cell_type": "markdown",
   "id": "ff089365-2fa6-41aa-8262-d70208432064",
   "metadata": {},
   "source": [
    "# ta-lib"
   ]
  },
  {
   "cell_type": "code",
   "execution_count": 4,
   "id": "7ea5ae14-d467-4939-8cfb-1d67061c1b07",
   "metadata": {},
   "outputs": [
    {
     "name": "stdout",
     "output_type": "stream",
     "text": [
      "[       nan        nan        nan        nan        nan        nan\n",
      "        nan        nan        nan        nan        nan        nan\n",
      "        nan        nan        nan        nan        nan        nan\n",
      "        nan        nan        nan        nan        nan        nan\n",
      "        nan        nan        nan        nan        nan 0.49943182\n",
      " 0.49655117 0.52809837 0.52229319 0.52352991 0.49583253 0.49413482\n",
      " 0.49755536 0.50386612 0.50549497 0.51076226 0.5042152  0.48551598\n",
      " 0.48422809 0.49319298 0.49479473 0.51102915 0.52345681 0.51975561\n",
      " 0.52073559 0.51948303 0.53597085 0.54381519 0.57138999 0.58986587\n",
      " 0.56800198 0.56361838 0.55831416 0.54235342 0.52528351 0.49468587\n",
      " 0.50603199 0.49034633 0.49061125 0.49520767 0.49876745 0.48117876\n",
      " 0.47287668 0.46841485 0.47517451 0.4685983  0.46219008 0.47105877\n",
      " 0.44788146 0.44229839 0.46306038 0.43806259 0.43447342 0.44885704\n",
      " 0.43779922 0.43495429 0.42981093 0.42206184 0.40392851 0.38454541\n",
      " 0.40983861 0.41095455 0.41014961 0.40068591 0.41874962 0.449546\n",
      " 0.44035429 0.42859552 0.4295225  0.41647827 0.43056408 0.426176\n",
      " 0.42839049 0.42995812 0.41080741 0.43207471]\n"
     ]
    }
   ],
   "source": [
    "import numpy as np\n",
    "import talib\n",
    "close = np.random.random(100)\n",
    "output = talib.SMA(close)\n",
    "print(output)"
   ]
  },
  {
   "cell_type": "code",
   "execution_count": 16,
   "id": "1ff47621-e39a-4248-8267-18fad63bd5db",
   "metadata": {},
   "outputs": [
    {
     "name": "stdout",
     "output_type": "stream",
     "text": [
      "[    nan     nan     nan     nan 117.642 120.268 120.642]\n"
     ]
    }
   ],
   "source": [
    "import numpy as np  \n",
    "import talib\n",
    "\n",
    "#simple_moving_average \n",
    "\n",
    "close_price = np.array([100.21, 121.34, 111.11, 123.32, 132.23, 113.34, 123.21])\n",
    "simple_mvng_avg = talib.SMA(close_price, timeperiod = 5)       \n",
    "print(simple_mvng_avg)"
   ]
  },
  {
   "cell_type": "code",
   "execution_count": 26,
   "id": "be900614-f0f2-4a8d-9412-bc6a9b4b48f2",
   "metadata": {},
   "outputs": [
    {
     "name": "stdout",
     "output_type": "stream",
     "text": [
      "[        nan         nan         nan 80.36890646 71.47041593 71.95104392\n",
      " 79.85938792]\n"
     ]
    }
   ],
   "source": [
    "import numpy as np\n",
    "import talib\n",
    "\n",
    "#relative_strength_index\n",
    "\n",
    "close_price = np.array([111.12, 123.32, 121.12, 120.34, 119.08, 119.21, 121.23])\n",
    "relative_strength_index = talib.RSI(close_price, timeperiod = 3)        \n",
    "print(relative_strength_index)"
   ]
  },
  {
   "cell_type": "code",
   "execution_count": 45,
   "id": "34174952-908e-427d-9f2d-fef9848138d5",
   "metadata": {},
   "outputs": [
    {
     "name": "stdout",
     "output_type": "stream",
     "text": [
      "[    nan     nan     nan     nan     nan     nan     nan     nan     nan\n",
      "     nan     nan     nan     nan     nan     nan     nan     nan     nan\n",
      "     nan     nan     nan     nan     nan     nan     nan     nan     nan\n",
      "     nan     nan 124.974]\n"
     ]
    }
   ],
   "source": [
    "import numpy as np\n",
    "import talib\n",
    "\n",
    "close_price = np.array([\n",
    "    111.12, 113.45, 112.78, 115.34, 118.12, 117.56, 119.87, 121.23, 122.45, 123.67,\n",
    "    124.78, 125.12, 126.45, 127.89, 126.34, 125.87, 128.12, 129.45, 130.78, 132.34,\n",
    "    131.56, 130.12, 128.78, 127.45, 126.78, 127.89, 129.12, 130.67, 131.23, 132.89\n",
    "])\n",
    "\n",
    "#ema - (Exponential Moving Average)\n",
    "\n",
    "real = talib.EMA(close_price, timeperiod=30)\n",
    "print(real) "
   ]
  },
  {
   "cell_type": "code",
   "execution_count": 28,
   "id": "4d6b4caf-d25d-4756-9f53-dd92ea9774d4",
   "metadata": {},
   "outputs": [
    {
     "name": "stdout",
     "output_type": "stream",
     "text": [
      "MACD Line: [nan nan nan nan nan nan nan nan nan nan]\n",
      "Signal Line: [nan nan nan nan nan nan nan nan nan nan]\n",
      "MACD Histogram: [nan nan nan nan nan nan nan nan nan nan]\n"
     ]
    }
   ],
   "source": [
    "import numpy as np\n",
    "import talib\n",
    "\n",
    "close_price = np.array([111.12, 123.32, 121.12, 120.34, 119.08, 119.21, 121.23, 124.45, 132.65, 125.87])\n",
    "\n",
    "#macd-(Moving Average Convergence Divergence)\n",
    "\n",
    "macd, macdsignal, macdhist = talib.MACD(close_price, fastperiod=12, slowperiod=26, signalperiod=9)\n",
    "\n",
    "print(\"MACD Line:\", macd)\n",
    "print(\"Signal Line:\", macdsignal)\n",
    "print(\"MACD Histogram:\", macdhist)\n"
   ]
  },
  {
   "cell_type": "code",
   "execution_count": 42,
   "id": "c617314d-ee49-4c00-b91c-e57fd1bb3da4",
   "metadata": {},
   "outputs": [
    {
     "name": "stdout",
     "output_type": "stream",
     "text": [
      "MACD Line: [nan nan nan nan nan nan nan nan nan nan nan nan nan nan nan nan nan nan\n",
      " nan nan nan nan nan nan nan nan nan nan nan nan]\n",
      "Signal Line: [nan nan nan nan nan nan nan nan nan nan nan nan nan nan nan nan nan nan\n",
      " nan nan nan nan nan nan nan nan nan nan nan nan]\n",
      "MACD Histogram: [nan nan nan nan nan nan nan nan nan nan nan nan nan nan nan nan nan nan\n",
      " nan nan nan nan nan nan nan nan nan nan nan nan]\n"
     ]
    }
   ],
   "source": [
    "import numpy as np\n",
    "import talib\n",
    "\n",
    "close_price = np.array([\n",
    "    111.12, 113.45, 112.78, 115.34, 118.12, 117.56, 119.87, 121.23, 122.45, 123.67,\n",
    "    124.78, 125.12, 126.45, 127.89, 126.34, 125.87, 128.12, 129.45, 130.78, 132.34,\n",
    "    131.56, 130.12, 128.78, 127.45, 126.78, 127.89, 129.12, 130.67, 131.23, 132.89\n",
    "])\n",
    "\n",
    "#macd-(Moving Average Convergence Divergence)\n",
    "macd, macdsignal, macdhist = talib.MACD(close_price, fastperiod=12, slowperiod=26, signalperiod=9)\n",
    "\n",
    "print(\"MACD Line:\", macd)\n",
    "print(\"Signal Line:\", macdsignal)\n",
    "print(\"MACD Histogram:\", macdhist)\n"
   ]
  },
  {
   "cell_type": "code",
   "execution_count": 43,
   "id": "f4609eb7-a26e-4caa-bf17-ee10760f5e07",
   "metadata": {},
   "outputs": [
    {
     "name": "stdout",
     "output_type": "stream",
     "text": [
      "MACD Line: [nan nan nan nan nan nan nan nan nan nan nan nan nan nan nan nan nan nan\n",
      " nan nan nan nan nan nan nan nan nan nan nan nan]\n",
      "Signal Line: [nan nan nan nan nan nan nan nan nan nan nan nan nan nan nan nan nan nan\n",
      " nan nan nan nan nan nan nan nan nan nan nan nan]\n",
      "MACD Histogram: [nan nan nan nan nan nan nan nan nan nan nan nan nan nan nan nan nan nan\n",
      " nan nan nan nan nan nan nan nan nan nan nan nan]\n"
     ]
    }
   ],
   "source": [
    "import numpy as np\n",
    "import talib\n",
    "\n",
    "file_name = \"C:\\\\DATA BACKUP\\\\Downloads\\\\closing_prices.csv\"\n",
    "close_price = np.loadtxt(file_name, delimiter = \",\", skiprows = 1)\n",
    "\n",
    "#macd-(Moving Average Convergence Divergence)\n",
    "\n",
    "macd, macdsignal, macdhist = talib.MACD(close_price, fastperiod=12, slowperiod=26, signalperiod=9)\n",
    "\n",
    "print(\"MACD Line:\", macd)\n",
    "print(\"Signal Line:\", macdsignal)\n",
    "print(\"MACD Histogram:\", macdhist)"
   ]
  },
  {
   "cell_type": "code",
   "execution_count": null,
   "id": "6b34566e-08dd-42b5-ae87-d513fefa70db",
   "metadata": {},
   "outputs": [],
   "source": []
  }
 ],
 "metadata": {
  "kernelspec": {
   "display_name": "Python 3 (ipykernel)",
   "language": "python",
   "name": "python3"
  },
  "language_info": {
   "codemirror_mode": {
    "name": "ipython",
    "version": 3
   },
   "file_extension": ".py",
   "mimetype": "text/x-python",
   "name": "python",
   "nbconvert_exporter": "python",
   "pygments_lexer": "ipython3",
   "version": "3.12.8"
  }
 },
 "nbformat": 4,
 "nbformat_minor": 5
}
